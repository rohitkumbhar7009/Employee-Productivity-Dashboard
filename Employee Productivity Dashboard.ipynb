{
 "cells": [
  {
   "cell_type": "markdown",
   "id": "162f979b",
   "metadata": {},
   "source": [
    "# Problem Statement:\n",
    "\n",
    "A consulting firm tracks employee work logs across multiple projects and departments. Management seeks to aggregate this data to evaluate productivity metrics such as total hours worked, average task completion time, and project contributions by department. The challenge is to use pandas to merge, group, and aggregate the data, providing actionable insights for resource allocation and performance reviews.\n",
    "\n"
   ]
  },
  {
   "cell_type": "code",
   "execution_count": 1,
   "id": "589762ff",
   "metadata": {},
   "outputs": [],
   "source": [
    "import numpy as np\n",
    "import matplotlib.pyplot as plt \n",
    "import pandas as pd \n",
    "import seaborn as sns"
   ]
  },
  {
   "cell_type": "code",
   "execution_count": 2,
   "id": "155217f1",
   "metadata": {},
   "outputs": [
    {
     "data": {
      "text/html": [
       "<div>\n",
       "<style scoped>\n",
       "    .dataframe tbody tr th:only-of-type {\n",
       "        vertical-align: middle;\n",
       "    }\n",
       "\n",
       "    .dataframe tbody tr th {\n",
       "        vertical-align: top;\n",
       "    }\n",
       "\n",
       "    .dataframe thead th {\n",
       "        text-align: right;\n",
       "    }\n",
       "</style>\n",
       "<table border=\"1\" class=\"dataframe\">\n",
       "  <thead>\n",
       "    <tr style=\"text-align: right;\">\n",
       "      <th></th>\n",
       "      <th>employee_id</th>\n",
       "      <th>department</th>\n",
       "      <th>project</th>\n",
       "      <th>date</th>\n",
       "      <th>hours_worked</th>\n",
       "      <th>tasks_completed</th>\n",
       "    </tr>\n",
       "  </thead>\n",
       "  <tbody>\n",
       "    <tr>\n",
       "      <th>0</th>\n",
       "      <td>503</td>\n",
       "      <td>IT</td>\n",
       "      <td>Gamma</td>\n",
       "      <td>2024-05-07</td>\n",
       "      <td>2.8</td>\n",
       "      <td>4</td>\n",
       "    </tr>\n",
       "    <tr>\n",
       "      <th>1</th>\n",
       "      <td>504</td>\n",
       "      <td>Marketing</td>\n",
       "      <td>Alpha</td>\n",
       "      <td>2024-05-19</td>\n",
       "      <td>4.7</td>\n",
       "      <td>3</td>\n",
       "    </tr>\n",
       "    <tr>\n",
       "      <th>2</th>\n",
       "      <td>518</td>\n",
       "      <td>Marketing</td>\n",
       "      <td>Beta</td>\n",
       "      <td>2024-05-23</td>\n",
       "      <td>3.5</td>\n",
       "      <td>1</td>\n",
       "    </tr>\n",
       "    <tr>\n",
       "      <th>3</th>\n",
       "      <td>513</td>\n",
       "      <td>IT</td>\n",
       "      <td>Alpha</td>\n",
       "      <td>2024-05-31</td>\n",
       "      <td>6.8</td>\n",
       "      <td>1</td>\n",
       "    </tr>\n",
       "    <tr>\n",
       "      <th>4</th>\n",
       "      <td>507</td>\n",
       "      <td>IT</td>\n",
       "      <td>Alpha</td>\n",
       "      <td>2024-05-15</td>\n",
       "      <td>2.7</td>\n",
       "      <td>2</td>\n",
       "    </tr>\n",
       "  </tbody>\n",
       "</table>\n",
       "</div>"
      ],
      "text/plain": [
       "   employee_id department project        date  hours_worked  tasks_completed\n",
       "0          503         IT   Gamma  2024-05-07           2.8                4\n",
       "1          504  Marketing   Alpha  2024-05-19           4.7                3\n",
       "2          518  Marketing    Beta  2024-05-23           3.5                1\n",
       "3          513         IT   Alpha  2024-05-31           6.8                1\n",
       "4          507         IT   Alpha  2024-05-15           2.7                2"
      ]
     },
     "execution_count": 2,
     "metadata": {},
     "output_type": "execute_result"
    }
   ],
   "source": [
    "df = pd.read_csv('employee-data.csv')\n",
    "df.head()"
   ]
  },
  {
   "cell_type": "code",
   "execution_count": 3,
   "id": "f04a1810",
   "metadata": {},
   "outputs": [
    {
     "data": {
      "text/plain": [
       "(100, 6)"
      ]
     },
     "execution_count": 3,
     "metadata": {},
     "output_type": "execute_result"
    }
   ],
   "source": [
    "df.shape"
   ]
  },
  {
   "cell_type": "code",
   "execution_count": 4,
   "id": "b9404995",
   "metadata": {},
   "outputs": [
    {
     "data": {
      "text/plain": [
       "employee_id          int64\n",
       "department          object\n",
       "project             object\n",
       "date                object\n",
       "hours_worked       float64\n",
       "tasks_completed      int64\n",
       "dtype: object"
      ]
     },
     "execution_count": 4,
     "metadata": {},
     "output_type": "execute_result"
    }
   ],
   "source": [
    "df.dtypes"
   ]
  },
  {
   "cell_type": "code",
   "execution_count": 5,
   "id": "68602cc1",
   "metadata": {},
   "outputs": [
    {
     "data": {
      "text/plain": [
       "employee_id        0\n",
       "department         0\n",
       "project            0\n",
       "date               0\n",
       "hours_worked       0\n",
       "tasks_completed    0\n",
       "dtype: int64"
      ]
     },
     "execution_count": 5,
     "metadata": {},
     "output_type": "execute_result"
    }
   ],
   "source": [
    "df.isnull().sum()"
   ]
  },
  {
   "cell_type": "markdown",
   "id": "12602854",
   "metadata": {},
   "source": [
    "# ● How do you calculate total hours worked by each employee?"
   ]
  },
  {
   "cell_type": "code",
   "execution_count": 9,
   "id": "fd7d0670",
   "metadata": {},
   "outputs": [
    {
     "data": {
      "text/html": [
       "<div>\n",
       "<style scoped>\n",
       "    .dataframe tbody tr th:only-of-type {\n",
       "        vertical-align: middle;\n",
       "    }\n",
       "\n",
       "    .dataframe tbody tr th {\n",
       "        vertical-align: top;\n",
       "    }\n",
       "\n",
       "    .dataframe thead th {\n",
       "        text-align: right;\n",
       "    }\n",
       "</style>\n",
       "<table border=\"1\" class=\"dataframe\">\n",
       "  <thead>\n",
       "    <tr style=\"text-align: right;\">\n",
       "      <th></th>\n",
       "      <th>employee_id</th>\n",
       "      <th>hours_worked</th>\n",
       "    </tr>\n",
       "  </thead>\n",
       "  <tbody>\n",
       "    <tr>\n",
       "      <th>0</th>\n",
       "      <td>501</td>\n",
       "      <td>26.5</td>\n",
       "    </tr>\n",
       "    <tr>\n",
       "      <th>1</th>\n",
       "      <td>502</td>\n",
       "      <td>43.3</td>\n",
       "    </tr>\n",
       "    <tr>\n",
       "      <th>2</th>\n",
       "      <td>503</td>\n",
       "      <td>41.7</td>\n",
       "    </tr>\n",
       "    <tr>\n",
       "      <th>3</th>\n",
       "      <td>504</td>\n",
       "      <td>38.2</td>\n",
       "    </tr>\n",
       "    <tr>\n",
       "      <th>4</th>\n",
       "      <td>505</td>\n",
       "      <td>26.6</td>\n",
       "    </tr>\n",
       "    <tr>\n",
       "      <th>5</th>\n",
       "      <td>506</td>\n",
       "      <td>31.1</td>\n",
       "    </tr>\n",
       "    <tr>\n",
       "      <th>6</th>\n",
       "      <td>507</td>\n",
       "      <td>2.7</td>\n",
       "    </tr>\n",
       "    <tr>\n",
       "      <th>7</th>\n",
       "      <td>508</td>\n",
       "      <td>54.7</td>\n",
       "    </tr>\n",
       "    <tr>\n",
       "      <th>8</th>\n",
       "      <td>509</td>\n",
       "      <td>37.9</td>\n",
       "    </tr>\n",
       "    <tr>\n",
       "      <th>9</th>\n",
       "      <td>511</td>\n",
       "      <td>27.2</td>\n",
       "    </tr>\n",
       "    <tr>\n",
       "      <th>10</th>\n",
       "      <td>512</td>\n",
       "      <td>24.5</td>\n",
       "    </tr>\n",
       "    <tr>\n",
       "      <th>11</th>\n",
       "      <td>513</td>\n",
       "      <td>25.1</td>\n",
       "    </tr>\n",
       "    <tr>\n",
       "      <th>12</th>\n",
       "      <td>514</td>\n",
       "      <td>26.8</td>\n",
       "    </tr>\n",
       "    <tr>\n",
       "      <th>13</th>\n",
       "      <td>515</td>\n",
       "      <td>15.7</td>\n",
       "    </tr>\n",
       "    <tr>\n",
       "      <th>14</th>\n",
       "      <td>516</td>\n",
       "      <td>26.9</td>\n",
       "    </tr>\n",
       "    <tr>\n",
       "      <th>15</th>\n",
       "      <td>517</td>\n",
       "      <td>39.0</td>\n",
       "    </tr>\n",
       "    <tr>\n",
       "      <th>16</th>\n",
       "      <td>518</td>\n",
       "      <td>14.6</td>\n",
       "    </tr>\n",
       "    <tr>\n",
       "      <th>17</th>\n",
       "      <td>519</td>\n",
       "      <td>18.3</td>\n",
       "    </tr>\n",
       "    <tr>\n",
       "      <th>18</th>\n",
       "      <td>520</td>\n",
       "      <td>24.2</td>\n",
       "    </tr>\n",
       "  </tbody>\n",
       "</table>\n",
       "</div>"
      ],
      "text/plain": [
       "    employee_id  hours_worked\n",
       "0           501          26.5\n",
       "1           502          43.3\n",
       "2           503          41.7\n",
       "3           504          38.2\n",
       "4           505          26.6\n",
       "5           506          31.1\n",
       "6           507           2.7\n",
       "7           508          54.7\n",
       "8           509          37.9\n",
       "9           511          27.2\n",
       "10          512          24.5\n",
       "11          513          25.1\n",
       "12          514          26.8\n",
       "13          515          15.7\n",
       "14          516          26.9\n",
       "15          517          39.0\n",
       "16          518          14.6\n",
       "17          519          18.3\n",
       "18          520          24.2"
      ]
     },
     "execution_count": 9,
     "metadata": {},
     "output_type": "execute_result"
    }
   ],
   "source": [
    "total_hours = df.groupby('employee_id')['hours_worked'].sum().reset_index()\n",
    "total_hours"
   ]
  },
  {
   "cell_type": "markdown",
   "id": "25540fab",
   "metadata": {},
   "source": [
    "# ●\tHow can you find the average number of tasks completed per department?\n"
   ]
  },
  {
   "cell_type": "code",
   "execution_count": 12,
   "id": "79674a00",
   "metadata": {},
   "outputs": [
    {
     "data": {
      "text/html": [
       "<div>\n",
       "<style scoped>\n",
       "    .dataframe tbody tr th:only-of-type {\n",
       "        vertical-align: middle;\n",
       "    }\n",
       "\n",
       "    .dataframe tbody tr th {\n",
       "        vertical-align: top;\n",
       "    }\n",
       "\n",
       "    .dataframe thead th {\n",
       "        text-align: right;\n",
       "    }\n",
       "</style>\n",
       "<table border=\"1\" class=\"dataframe\">\n",
       "  <thead>\n",
       "    <tr style=\"text-align: right;\">\n",
       "      <th></th>\n",
       "      <th>department</th>\n",
       "      <th>tasks_completed</th>\n",
       "    </tr>\n",
       "  </thead>\n",
       "  <tbody>\n",
       "    <tr>\n",
       "      <th>0</th>\n",
       "      <td>Finance</td>\n",
       "      <td>3.476190</td>\n",
       "    </tr>\n",
       "    <tr>\n",
       "      <th>1</th>\n",
       "      <td>HR</td>\n",
       "      <td>3.166667</td>\n",
       "    </tr>\n",
       "    <tr>\n",
       "      <th>2</th>\n",
       "      <td>IT</td>\n",
       "      <td>2.935484</td>\n",
       "    </tr>\n",
       "    <tr>\n",
       "      <th>3</th>\n",
       "      <td>Marketing</td>\n",
       "      <td>3.125000</td>\n",
       "    </tr>\n",
       "  </tbody>\n",
       "</table>\n",
       "</div>"
      ],
      "text/plain": [
       "  department  tasks_completed\n",
       "0    Finance         3.476190\n",
       "1         HR         3.166667\n",
       "2         IT         2.935484\n",
       "3  Marketing         3.125000"
      ]
     },
     "execution_count": 12,
     "metadata": {},
     "output_type": "execute_result"
    }
   ],
   "source": [
    "average = df.groupby('department')['tasks_completed'].mean().reset_index()\n",
    "average"
   ]
  },
  {
   "cell_type": "markdown",
   "id": "1e149bd7",
   "metadata": {},
   "source": [
    "# ●\tWhich project had the highest total hours logged?\n"
   ]
  },
  {
   "cell_type": "code",
   "execution_count": 14,
   "id": "4b43087c",
   "metadata": {},
   "outputs": [
    {
     "data": {
      "text/html": [
       "<div>\n",
       "<style scoped>\n",
       "    .dataframe tbody tr th:only-of-type {\n",
       "        vertical-align: middle;\n",
       "    }\n",
       "\n",
       "    .dataframe tbody tr th {\n",
       "        vertical-align: top;\n",
       "    }\n",
       "\n",
       "    .dataframe thead th {\n",
       "        text-align: right;\n",
       "    }\n",
       "</style>\n",
       "<table border=\"1\" class=\"dataframe\">\n",
       "  <thead>\n",
       "    <tr style=\"text-align: right;\">\n",
       "      <th></th>\n",
       "      <th>department</th>\n",
       "      <th>hours_worked</th>\n",
       "    </tr>\n",
       "  </thead>\n",
       "  <tbody>\n",
       "    <tr>\n",
       "      <th>0</th>\n",
       "      <td>Finance</td>\n",
       "      <td>8.9</td>\n",
       "    </tr>\n",
       "    <tr>\n",
       "      <th>1</th>\n",
       "      <td>HR</td>\n",
       "      <td>8.6</td>\n",
       "    </tr>\n",
       "    <tr>\n",
       "      <th>2</th>\n",
       "      <td>IT</td>\n",
       "      <td>8.9</td>\n",
       "    </tr>\n",
       "    <tr>\n",
       "      <th>3</th>\n",
       "      <td>Marketing</td>\n",
       "      <td>8.9</td>\n",
       "    </tr>\n",
       "  </tbody>\n",
       "</table>\n",
       "</div>"
      ],
      "text/plain": [
       "  department  hours_worked\n",
       "0    Finance           8.9\n",
       "1         HR           8.6\n",
       "2         IT           8.9\n",
       "3  Marketing           8.9"
      ]
     },
     "execution_count": 14,
     "metadata": {},
     "output_type": "execute_result"
    }
   ],
   "source": [
    "highest_hours = df.groupby('department')['hours_worked'].max().reset_index()\n",
    "highest_hours"
   ]
  },
  {
   "cell_type": "markdown",
   "id": "82cfd793",
   "metadata": {},
   "source": [
    "# ●\tHow do you merge employee data with department information?"
   ]
  },
  {
   "cell_type": "code",
   "execution_count": null,
   "id": "0da71293",
   "metadata": {},
   "outputs": [],
   "source": []
  },
  {
   "cell_type": "markdown",
   "id": "04d8b340",
   "metadata": {},
   "source": [
    "# ●\tHow can you create a summary table of productivity metrics by department and project?"
   ]
  },
  {
   "cell_type": "code",
   "execution_count": 33,
   "id": "a77d0917",
   "metadata": {},
   "outputs": [
    {
     "data": {
      "image/png": "[encoded data removed]",
      "text/plain": [
       "<Figure size 1200x600 with 1 Axes>"
      ]
     },
     "metadata": {},
     "output_type": "display_data"
    }
   ],
   "source": [
    "# summary = df.groupby(['department', 'project']).agg({\n",
    "#     'hours_worked': ['sum', 'mean'],\n",
    "#     'tasks_completed': ['sum', 'mean', 'count']\n",
    "# }).reset_index()  \n",
    "\n",
    "\n",
    "# # Flatten multi-level column names\n",
    "# summary.columns = ['_'.join(col).strip('_') for col in summary.columns.values]\n",
    "\n",
    "\n",
    "# summary \n",
    "\n",
    "summary = df.groupby(['department', 'project']).agg({\n",
    "    'hours_worked': ['sum', 'mean'],\n",
    "    'tasks_completed': ['sum', 'mean']\n",
    "}).reset_index()\n",
    "\n",
    "# Flatten multi-level column names\n",
    "summary.columns = ['department', 'project', \n",
    "                   'hours_sum', 'hours_mean', \n",
    "                   'tasks_sum', 'tasks_mean']\n",
    "\n",
    "# Create a group label for plotting\n",
    "summary['group'] = summary['department'] + ' - ' + summary['project'] \n",
    "\n",
    "x = range(len(summary))\n",
    "bar_width = 0.2\n",
    "\n",
    "plt.figure(figsize=(12, 6))\n",
    "\n",
    "# Plotting all 4 bars per group\n",
    "plt.bar([i - 1.5*bar_width for i in x], summary['hours_sum'], width=bar_width, label='Hours Sum', color='skyblue')\n",
    "plt.bar([i - 0.5*bar_width for i in x], summary['hours_mean'], width=bar_width, label='Hours Mean', color='deepskyblue')\n",
    "plt.bar([i + 0.5*bar_width for i in x], summary['tasks_sum'], width=bar_width, label='Tasks Sum', color='orange')\n",
    "plt.bar([i + 1.5*bar_width for i in x], summary['tasks_mean'], width=bar_width, label='Tasks Mean', color='goldenrod')\n",
    "\n",
    "# X-axis setup\n",
    "plt.xticks(x, summary['group'], rotation=45)\n",
    "\n",
    "# Labels and title\n",
    "plt.xlabel('Department - Project')\n",
    "plt.ylabel('Value')\n",
    "plt.title('Productivity Summary: Sum and Mean by Department and Project')\n",
    "plt.legend()\n",
    "plt.tight_layout()\n",
    "plt.show()\n"
   ]
  },
  {
   "cell_type": "code",
   "execution_count": null,
   "id": "3f1036ec",
   "metadata": {},
   "outputs": [],
   "source": []
  }
 ],
 "metadata": {
  "kernelspec": {
   "display_name": "Python 3 (ipykernel)",
   "language": "python",
   "name": "python3"
  },
  "language_info": {
   "codemirror_mode": {
    "name": "ipython",
    "version": 3
   },
   "file_extension": ".py",
   "mimetype": "text/x-python",
   "name": "python",
   "nbconvert_exporter": "python",
   "pygments_lexer": "ipython3",
   "version": "3.10.9"
  }
 },
 "nbformat": 4,
 "nbformat_minor": 5
}
